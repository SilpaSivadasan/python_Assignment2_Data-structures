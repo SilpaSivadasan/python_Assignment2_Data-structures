{
 "cells": [
  {
   "cell_type": "markdown",
   "id": "83ec7215-afc7-4b40-b042-752f1f62d0c0",
   "metadata": {},
   "source": [
    "\n",
    "# Data structures in python \n",
    "\n"
   ]
  },
  {
   "cell_type": "markdown",
   "id": "7a0c5f26-048a-4c1a-861f-09a61d399f48",
   "metadata": {},
   "source": [
    "# Topic :List\n",
    "Exercise\n",
    "Q1. Create a list of 5 random numbers and print the list.\n",
    "Q2. Insert 3 new values to the list and print the updated list.\n",
    "Q3. Try to use a for loop to print each element in the list.\n"
   ]
  },
  {
   "cell_type": "code",
   "execution_count": 6,
   "id": "f8109409-0230-43c0-9da1-b7b2e7f6e280",
   "metadata": {},
   "outputs": [
    {
     "name": "stdout",
     "output_type": "stream",
     "text": [
      "Original List: [2, 23, 11, 30, 4]\n"
     ]
    }
   ],
   "source": [
    "import random\n",
    "# Creating a list of 5 random numbers\n",
    "random_numbers = [random.randint(1,100) for _ in range(5)]\n",
    "\n",
    "print(\"Original List:\", random_numbers)"
   ]
  },
  {
   "cell_type": "code",
   "execution_count": 8,
   "id": "3b1ca250-03c1-450d-818a-c7769694debb",
   "metadata": {},
   "outputs": [
    {
     "name": "stdout",
     "output_type": "stream",
     "text": [
      "Updated List: [2, 23, 11, 30, 4, 20, 86, 98]\n"
     ]
    }
   ],
   "source": [
    "# Adding 3 new random values\n",
    "random_numbers.append(random.randint(1, 100))\n",
    "random_numbers.append(random.randint(1, 100))\n",
    "random_numbers.append(random.randint(1, 100))\n",
    "\n",
    "print(\"Updated List:\", random_numbers)"
   ]
  },
  {
   "cell_type": "code",
   "execution_count": 10,
   "id": "9491c47c-e387-492a-9f35-cc95c88639a1",
   "metadata": {},
   "outputs": [
    {
     "name": "stdout",
     "output_type": "stream",
     "text": [
      "Elements in the list:\n",
      "2\n",
      "23\n",
      "11\n",
      "30\n",
      "4\n",
      "20\n",
      "86\n",
      "98\n"
     ]
    }
   ],
   "source": [
    "# Printing each element using a for loop\n",
    "print(\"Elements in the list:\")\n",
    "for number in random_numbers:\n",
    "    print(number)\n"
   ]
  },
  {
   "cell_type": "markdown",
   "id": "715bf510-99ed-4dab-bb50-854d53dd74a2",
   "metadata": {},
   "source": [
    "# Topic: Dictionary\n",
    "Exercise \n",
    "Q1. Create a dictionary with keys 'name', 'age', and 'address' and values 'John', 25, and 'New York' respectively.\n",
    "Q2. Add a new key-value pair to the dictionary created in Q1 with key 'phone' and value '1234567890'.\n"
   ]
  },
  {
   "cell_type": "code",
   "execution_count": 13,
   "id": "ab3ecd62-cfa0-482b-9b42-5108dbde69bb",
   "metadata": {},
   "outputs": [
    {
     "name": "stdout",
     "output_type": "stream",
     "text": [
      "Dictionary: {'name': 'John', 'age': 25, 'address': 'New York'}\n"
     ]
    }
   ],
   "source": [
    "# Creating a dictionary\n",
    "person = {\n",
    "    'name': 'John',\n",
    "    'age': 25,\n",
    "    'address': 'New York'\n",
    "}\n",
    "\n",
    "print(\"Dictionary:\", person)\n"
   ]
  },
  {
   "cell_type": "code",
   "execution_count": 15,
   "id": "d26d2646-4d50-463b-8ded-6dcac8673849",
   "metadata": {},
   "outputs": [
    {
     "name": "stdout",
     "output_type": "stream",
     "text": [
      "Updated Dictionary: {'name': 'John', 'age': 25, 'address': 'New York', 'phone': '1234567890'}\n"
     ]
    }
   ],
   "source": [
    "person.update({'phone': '1234567890'})\n",
    "print(\"Updated Dictionary:\", person)\n"
   ]
  },
  {
   "cell_type": "markdown",
   "id": "eb64571a-d363-49eb-9104-93ccdb3df34e",
   "metadata": {},
   "source": [
    "# Topic: Set\n",
    "Exercise  \n",
    "Q1.Create a set with values 1, 2, 3, 4, and 5.\n",
    "Q2. Add the value 6 to the set created in Q1.\n",
    "Q3. Remove the value 3 from the set created in Q1.\n"
   ]
  },
  {
   "cell_type": "code",
   "execution_count": 28,
   "id": "fce25183-157e-4064-bc63-9c05a11228f5",
   "metadata": {},
   "outputs": [
    {
     "name": "stdout",
     "output_type": "stream",
     "text": [
      "Orginal numbers is :  {1, 2, 3, 4, 5}\n"
     ]
    }
   ],
   "source": [
    "# creating set \n",
    "numbers = {1,2,3,4,5}\n",
    "print (\"Orginal numbers is : \" , numbers)"
   ]
  },
  {
   "cell_type": "code",
   "execution_count": 30,
   "id": "4cee5961-d748-4b94-b00e-7ee084906c51",
   "metadata": {},
   "outputs": [
    {
     "name": "stdout",
     "output_type": "stream",
     "text": [
      "Orginal numbers after adding :  {1, 2, 3, 4, 5, 6}\n"
     ]
    }
   ],
   "source": [
    "numbers.add(6)\n",
    "print (\"Orginal numbers after adding : \" , numbers)"
   ]
  },
  {
   "cell_type": "code",
   "execution_count": 32,
   "id": "251c8f8a-24a7-4836-a59e-91a6351d7134",
   "metadata": {},
   "outputs": [
    {
     "name": "stdout",
     "output_type": "stream",
     "text": [
      "Orginal numbers after removing :  {1, 2, 4, 5, 6}\n"
     ]
    }
   ],
   "source": [
    "numbers.remove(3)\n",
    "print (\"Orginal numbers after removing : \" , numbers)"
   ]
  },
  {
   "cell_type": "markdown",
   "id": "4afb5522-1947-41ea-8d72-fe3f8d90a75f",
   "metadata": {},
   "source": [
    "# Topic:Tuple\n",
    "Exercise \n",
    "Q1. Create a tuple with values 1, 2, 3, and 4\n",
    "Q2. Print the length of the tuple created in Q1.\n",
    "\n",
    "\n"
   ]
  },
  {
   "cell_type": "code",
   "execution_count": 35,
   "id": "4bf4dfbb-3b49-4086-9261-8f66d1d41132",
   "metadata": {},
   "outputs": [
    {
     "name": "stdout",
     "output_type": "stream",
     "text": [
      "Tuple: (1, 2, 3, 4)\n"
     ]
    }
   ],
   "source": [
    "# Creating a tuple\n",
    "numbers = (1, 2, 3, 4)\n",
    "\n",
    "print(\"Tuple:\", numbers)\n"
   ]
  },
  {
   "cell_type": "code",
   "execution_count": 37,
   "id": "d0e1aef6-5e82-498e-bda5-aa666822456f",
   "metadata": {},
   "outputs": [
    {
     "name": "stdout",
     "output_type": "stream",
     "text": [
      "Length of Tuple is : 4\n"
     ]
    }
   ],
   "source": [
    "# print length of tuple\n",
    "print (\"Length of Tuple is :\" , len(numbers))"
   ]
  },
  {
   "cell_type": "code",
   "execution_count": null,
   "id": "47772412-3eae-4338-ad85-8db9344e4ddf",
   "metadata": {},
   "outputs": [],
   "source": []
  }
 ],
 "metadata": {
  "kernelspec": {
   "display_name": "Python [conda env:base] *",
   "language": "python",
   "name": "conda-base-py"
  },
  "language_info": {
   "codemirror_mode": {
    "name": "ipython",
    "version": 3
   },
   "file_extension": ".py",
   "mimetype": "text/x-python",
   "name": "python",
   "nbconvert_exporter": "python",
   "pygments_lexer": "ipython3",
   "version": "3.12.7"
  }
 },
 "nbformat": 4,
 "nbformat_minor": 5
}
